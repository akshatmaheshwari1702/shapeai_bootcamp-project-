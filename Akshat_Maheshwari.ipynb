{
  "nbformat": 4,
  "nbformat_minor": 0,
  "metadata": {
    "colab": {
      "name": "Akshat_Maheshwari.ipynb",
      "provenance": [],
      "collapsed_sections": [],
      "authorship_tag": "ABX9TyOD4LH4mKeKfWL5nmEQioFv",
      "include_colab_link": true
    },
    "kernelspec": {
      "name": "python3",
      "display_name": "Python 3"
    }
  },
  "cells": [
    {
      "cell_type": "markdown",
      "metadata": {
        "id": "view-in-github",
        "colab_type": "text"
      },
      "source": [
        "<a href=\"https://colab.research.google.com/github/akshatmaheshwari1702/shapeai_bootcamp-project-/blob/akshatmaheshwari1702-patch-1/Akshat_Maheshwari.ipynb\" target=\"_parent\"><img src=\"https://colab.research.google.com/assets/colab-badge.svg\" alt=\"Open In Colab\"/></a>"
      ]
    },
    {
      "cell_type": "markdown",
      "metadata": {
        "id": "kf6VZAjeMsM_"
      },
      "source": [
        "\r\n",
        "\r\n",
        "Importing the libararies"
      ]
    },
    {
      "cell_type": "code",
      "metadata": {
        "id": "Ec1AmDJyMhgh"
      },
      "source": [
        "import pandas as pd\r\n",
        "import numpy as np\r\n"
      ],
      "execution_count": 21,
      "outputs": []
    },
    {
      "cell_type": "markdown",
      "metadata": {
        "id": "8BN2V1s6MzqF"
      },
      "source": [
        "Exploring the datas:"
      ]
    },
    {
      "cell_type": "code",
      "metadata": {
        "id": "gh0J4AK_M2Hk"
      },
      "source": [
        "from sklearn.datasets import load_iris\r\n",
        "iris_dataset = load_iris()"
      ],
      "execution_count": 22,
      "outputs": []
    },
    {
      "cell_type": "code",
      "metadata": {
        "colab": {
          "base_uri": "https://localhost:8080/"
        },
        "id": "bKj8Lc1zM5Qm",
        "outputId": "a7cfb913-6e68-4e1e-86e7-c68cb1297969"
      },
      "source": [
        "print(\"Keys of iris_dataset: \\n{}\" .format(iris_dataset.keys()))"
      ],
      "execution_count": 23,
      "outputs": [
        {
          "output_type": "stream",
          "text": [
            "Keys of iris_dataset: \n",
            "dict_keys(['data', 'target', 'target_names', 'DESCR', 'feature_names', 'filename'])\n"
          ],
          "name": "stdout"
        }
      ]
    },
    {
      "cell_type": "code",
      "metadata": {
        "colab": {
          "base_uri": "https://localhost:8080/"
        },
        "id": "RGBh-GNYM7yk",
        "outputId": "9b89b150-2db4-4b0b-98ef-fed0c175b68c"
      },
      "source": [
        "\r\n",
        "val = iris_dataset['DESCR']\r\n",
        "start_val = val[:200]\r\n",
        "print(start_val + \"\\n...\")"
      ],
      "execution_count": 24,
      "outputs": [
        {
          "output_type": "stream",
          "text": [
            ".. _iris_dataset:\n",
            "\n",
            "Iris plants dataset\n",
            "--------------------\n",
            "\n",
            "**Data Set Characteristics:**\n",
            "\n",
            "    :Number of Instances: 150 (50 in each of three classes)\n",
            "    :Number of Attributes: 4 numeric, predictive\n",
            "...\n"
          ],
          "name": "stdout"
        }
      ]
    },
    {
      "cell_type": "code",
      "metadata": {
        "colab": {
          "base_uri": "https://localhost:8080/"
        },
        "id": "m8vn48gyM-RV",
        "outputId": "039c22d0-e5aa-4760-ba78-9c0c17db68ea"
      },
      "source": [
        "print(\"Target names: {}\".format(iris_dataset['target_names']))"
      ],
      "execution_count": 25,
      "outputs": [
        {
          "output_type": "stream",
          "text": [
            "Target names: ['setosa' 'versicolor' 'virginica']\n"
          ],
          "name": "stdout"
        }
      ]
    },
    {
      "cell_type": "code",
      "metadata": {
        "colab": {
          "base_uri": "https://localhost:8080/"
        },
        "id": "H-G-LmPkNA_l",
        "outputId": "07d4e436-fc77-4774-ab53-349c1acb8c59"
      },
      "source": [
        "print(\"Feature names: \\n{}\".format(iris_dataset['feature_names']))"
      ],
      "execution_count": 26,
      "outputs": [
        {
          "output_type": "stream",
          "text": [
            "Feature names: \n",
            "['sepal length (cm)', 'sepal width (cm)', 'petal length (cm)', 'petal width (cm)']\n"
          ],
          "name": "stdout"
        }
      ]
    },
    {
      "cell_type": "code",
      "metadata": {
        "colab": {
          "base_uri": "https://localhost:8080/"
        },
        "id": "oLHRGcioNDs0",
        "outputId": "a768bfdd-9ef8-4312-db0c-44af99557a4b"
      },
      "source": [
        "print(\"Type of data: {}\".format(type(iris_dataset['data'])))"
      ],
      "execution_count": 27,
      "outputs": [
        {
          "output_type": "stream",
          "text": [
            "Type of data: <class 'numpy.ndarray'>\n"
          ],
          "name": "stdout"
        }
      ]
    },
    {
      "cell_type": "code",
      "metadata": {
        "colab": {
          "base_uri": "https://localhost:8080/"
        },
        "id": "A95FyClENGPd",
        "outputId": "3460811b-90d7-421b-f0c3-c61df54a4f14"
      },
      "source": [
        "print(\"Shape of data: {}\".format(iris_dataset['data'].shape))"
      ],
      "execution_count": 28,
      "outputs": [
        {
          "output_type": "stream",
          "text": [
            "Shape of data: (150, 4)\n"
          ],
          "name": "stdout"
        }
      ]
    },
    {
      "cell_type": "code",
      "metadata": {
        "colab": {
          "base_uri": "https://localhost:8080/"
        },
        "id": "js6lCtVwNImW",
        "outputId": "f309fbdc-4867-411c-c58d-12bb14068e11"
      },
      "source": [
        "print(\"First five rows of data:\\n{}\".format(iris_dataset['data'][:5]))"
      ],
      "execution_count": 29,
      "outputs": [
        {
          "output_type": "stream",
          "text": [
            "First five rows of data:\n",
            "[[5.1 3.5 1.4 0.2]\n",
            " [4.9 3.  1.4 0.2]\n",
            " [4.7 3.2 1.3 0.2]\n",
            " [4.6 3.1 1.5 0.2]\n",
            " [5.  3.6 1.4 0.2]]\n"
          ],
          "name": "stdout"
        }
      ]
    },
    {
      "cell_type": "code",
      "metadata": {
        "colab": {
          "base_uri": "https://localhost:8080/"
        },
        "id": "fI7O3RkBNK5U",
        "outputId": "20462583-ac35-46de-ae7e-30b35317ff3d"
      },
      "source": [
        "print(\"Type of target: {}\".format(type(iris_dataset['target'])))"
      ],
      "execution_count": 30,
      "outputs": [
        {
          "output_type": "stream",
          "text": [
            "Type of target: <class 'numpy.ndarray'>\n"
          ],
          "name": "stdout"
        }
      ]
    },
    {
      "cell_type": "code",
      "metadata": {
        "colab": {
          "base_uri": "https://localhost:8080/"
        },
        "id": "Gp_XncfLNNJm",
        "outputId": "f99ad096-ba44-46e8-c934-8dcb91ac9f07"
      },
      "source": [
        "print(\"Shape of target: {}\".format(iris_dataset['target'].shape))"
      ],
      "execution_count": 31,
      "outputs": [
        {
          "output_type": "stream",
          "text": [
            "Shape of target: (150,)\n"
          ],
          "name": "stdout"
        }
      ]
    },
    {
      "cell_type": "code",
      "metadata": {
        "colab": {
          "base_uri": "https://localhost:8080/"
        },
        "id": "YX3eWCuxNPpV",
        "outputId": "5ce3ce83-7919-4279-c284-52af6a30f263"
      },
      "source": [
        "print(\"Target:\\n{}\".format(iris_dataset['target']))"
      ],
      "execution_count": 32,
      "outputs": [
        {
          "output_type": "stream",
          "text": [
            "Target:\n",
            "[0 0 0 0 0 0 0 0 0 0 0 0 0 0 0 0 0 0 0 0 0 0 0 0 0 0 0 0 0 0 0 0 0 0 0 0 0\n",
            " 0 0 0 0 0 0 0 0 0 0 0 0 0 1 1 1 1 1 1 1 1 1 1 1 1 1 1 1 1 1 1 1 1 1 1 1 1\n",
            " 1 1 1 1 1 1 1 1 1 1 1 1 1 1 1 1 1 1 1 1 1 1 1 1 1 1 2 2 2 2 2 2 2 2 2 2 2\n",
            " 2 2 2 2 2 2 2 2 2 2 2 2 2 2 2 2 2 2 2 2 2 2 2 2 2 2 2 2 2 2 2 2 2 2 2 2 2\n",
            " 2 2]\n"
          ],
          "name": "stdout"
        }
      ]
    },
    {
      "cell_type": "markdown",
      "metadata": {
        "id": "VHGOj4ZbNUJ7"
      },
      "source": [
        "# **Note:-**0 means sentosa,1 means versicolor,and 2 means virginica"
      ]
    },
    {
      "cell_type": "markdown",
      "metadata": {
        "id": "eRqdAwjrT5Ps"
      },
      "source": [
        "Training and Testing of Data"
      ]
    },
    {
      "cell_type": "code",
      "metadata": {
        "id": "8aPUeAylNR4F"
      },
      "source": [
        "from sklearn.model_selection import train_test_split\r\n",
        "X_train, X_test, y_train, y_test = train_test_split(\r\n",
        "    iris_dataset['data'],iris_dataset['target'],random_state=0\r\n",
        ")"
      ],
      "execution_count": 33,
      "outputs": []
    },
    {
      "cell_type": "code",
      "metadata": {
        "colab": {
          "base_uri": "https://localhost:8080/"
        },
        "id": "MI5vMu3fNXpG",
        "outputId": "6af5b70c-a7e6-4904-ce18-43f955b20224"
      },
      "source": [
        "print(\"X_train shape: {}\".format(X_train.shape))\r\n",
        "print(\"y_train shape: {}\".format(y_train.shape))\r\n",
        "print(\"X_test shape: {}\".format(X_test.shape))\r\n",
        "print(\"y_test shape: {}\".format(y_test.shape))"
      ],
      "execution_count": 34,
      "outputs": [
        {
          "output_type": "stream",
          "text": [
            "X_train shape: (112, 4)\n",
            "y_train shape: (112,)\n",
            "X_test shape: (38, 4)\n",
            "y_test shape: (38,)\n"
          ],
          "name": "stdout"
        }
      ]
    },
    {
      "cell_type": "markdown",
      "metadata": {
        "id": "jKDrWM-_hCuQ"
      },
      "source": [
        "k nearest neighbors model for ml"
      ]
    },
    {
      "cell_type": "code",
      "metadata": {
        "id": "Fd-rGiT5NapU"
      },
      "source": [
        "from sklearn.neighbors import KNeighborsClassifier\r\n",
        "knn = KNeighborsClassifier(n_neighbors=1)"
      ],
      "execution_count": 35,
      "outputs": []
    },
    {
      "cell_type": "markdown",
      "metadata": {
        "id": "HBK3Heq-ilrj"
      },
      "source": [
        "we will just train tha data here below"
      ]
    },
    {
      "cell_type": "code",
      "metadata": {
        "colab": {
          "base_uri": "https://localhost:8080/"
        },
        "id": "79pGmGLThVq1",
        "outputId": "62994215-1b66-4be4-8c36-b44881a8f2c5"
      },
      "source": [
        "knn.fit(X_train, y_train)\r\n",
        "\r\n"
      ],
      "execution_count": 36,
      "outputs": [
        {
          "output_type": "execute_result",
          "data": {
            "text/plain": [
              "KNeighborsClassifier(algorithm='auto', leaf_size=30, metric='minkowski',\n",
              "                     metric_params=None, n_jobs=None, n_neighbors=1, p=2,\n",
              "                     weights='uniform')"
            ]
          },
          "metadata": {
            "tags": []
          },
          "execution_count": 36
        }
      ]
    },
    {
      "cell_type": "markdown",
      "metadata": {
        "id": "441lsfkpiOjM"
      },
      "source": [
        "Making Predictions"
      ]
    },
    {
      "cell_type": "code",
      "metadata": {
        "colab": {
          "base_uri": "https://localhost:8080/"
        },
        "id": "pK-aFCGQiRfU",
        "outputId": "f705d20f-cb54-4dbd-e67e-29e57c5e012f"
      },
      "source": [
        "X_new = np.array([[5,2.9,1,0.2]])\r\n",
        "\r\n",
        "print(\"X_new.shape: {}\".format(X_new.shape))\r\n"
      ],
      "execution_count": 37,
      "outputs": [
        {
          "output_type": "stream",
          "text": [
            "X_new.shape: (1, 4)\n"
          ],
          "name": "stdout"
        }
      ]
    },
    {
      "cell_type": "markdown",
      "metadata": {
        "id": "QeK4W8vekJd0"
      },
      "source": [
        "we used a 2-d array for a single row here"
      ]
    },
    {
      "cell_type": "code",
      "metadata": {
        "colab": {
          "base_uri": "https://localhost:8080/"
        },
        "id": "5vrpmsA6jSm0",
        "outputId": "3d6a64aa-2114-4e8f-9ccc-1c86e25132a3"
      },
      "source": [
        "prediction = knn.predict(X_new)\r\n",
        "\r\n",
        "print(\"Prediction: {}\".format(prediction))\r\n",
        "print(\"Predicted target name: {}\".format(\r\n",
        "    iris_dataset['target_names'][prediction]))"
      ],
      "execution_count": 38,
      "outputs": [
        {
          "output_type": "stream",
          "text": [
            "Prediction: [0]\n",
            "Predicted target name: ['setosa']\n"
          ],
          "name": "stdout"
        }
      ]
    },
    {
      "cell_type": "markdown",
      "metadata": {
        "id": "hI0o5_D7kYal"
      },
      "source": [
        "Evaluating tha model"
      ]
    },
    {
      "cell_type": "code",
      "metadata": {
        "colab": {
          "base_uri": "https://localhost:8080/"
        },
        "id": "Xdz-WJROkN2k",
        "outputId": "d85a5bab-d9da-43cd-c6a4-6bdf291c0598"
      },
      "source": [
        "y_pred = knn.predict(X_test)\r\n",
        "print(\"Test set predictions:\\n {}\".format(y_pred))"
      ],
      "execution_count": 39,
      "outputs": [
        {
          "output_type": "stream",
          "text": [
            "Test set predictions:\n",
            " [2 1 0 2 0 2 0 1 1 1 2 1 1 1 1 0 1 1 0 0 2 1 0 0 2 0 0 1 1 0 2 1 0 2 2 1 0\n",
            " 2]\n"
          ],
          "name": "stdout"
        }
      ]
    },
    {
      "cell_type": "code",
      "metadata": {
        "colab": {
          "base_uri": "https://localhost:8080/"
        },
        "id": "c_BJ8q9-ktwF",
        "outputId": "b961e7bb-658e-4364-e34f-d9ee252e7fd2"
      },
      "source": [
        "print(\"Test set score: {}\".format(np.mean(y_pred==y_test)))"
      ],
      "execution_count": 40,
      "outputs": [
        {
          "output_type": "stream",
          "text": [
            "Test set score: 0.9736842105263158\n"
          ],
          "name": "stdout"
        }
      ]
    },
    {
      "cell_type": "code",
      "metadata": {
        "id": "mT2KRlSkk-PT"
      },
      "source": [
        ""
      ],
      "execution_count": null,
      "outputs": []
    }
  ]
}